{
 "cells": [
  {
   "cell_type": "code",
   "execution_count": 2,
   "metadata": {},
   "outputs": [
    {
     "name": "stdout",
     "output_type": "stream",
     "text": [
      "The file composer.txt has about 125 words.\n",
      "New lines :  18\n",
      "Paragraphs :  5\n",
      "Non Space Characters :  933\n",
      "Spaces :  112\n",
      "Tabs :  1\n"
     ]
    }
   ],
   "source": [
    "def count_words(filename):\n",
    "    \"\"\"Count the approximate number of words in a file.\"\"\"\n",
    "    try:\n",
    "        with open(filename) as f_obj:\n",
    "            contents = f_obj.read()\n",
    "    except FileNotFoundError:\n",
    "        msg = \"Sorry, the file \" + filename + \" does not exist.\"\n",
    "        print(msg)\n",
    "    else:\n",
    "        # Count approximate number of words in the file.\n",
    "        words = contents.split()\n",
    "        num_words = len(words)\n",
    "        print(\"The file \" + filename + \" has about \" + str(num_words) + \" words.\")\n",
    "        print(\"New lines : \", len(contents.split(\"\\n\")))\n",
    "        print(\"Paragraphs : \", len(contents.split(\"\\n\\n\")))\n",
    "        \n",
    "        char_count = 0\n",
    "        for a in contents:\n",
    "            if a != ' ':\n",
    "                char_count += 1\n",
    "                \n",
    "        print(\"Non Space Characters : \", char_count)\n",
    "        print(\"Spaces : \", len(contents) - char_count)\n",
    "        print(\"Tabs : \", len(contents.split(\"\\t\")))\n",
    "        #print(contents)\n",
    "\n",
    "#filenames = ['alice.txt', 'siddhartha.txt', 'moby_dick.txt', 'little_women.txt']\n",
    "#for filename in filenames:\n",
    "#filename = input(\"Enter File name to parse: \")\n",
    "#filename = 'sample_text_file.txt'\n",
    "filename = \"composer.txt\"\n",
    "count_words(filename)\n"
   ]
  },
  {
   "cell_type": "code",
   "execution_count": 10,
   "metadata": {},
   "outputs": [
    {
     "name": "stdout",
     "output_type": "stream",
     "text": [
      "{'html': 1, 'body': 1, 'head': 1, 'title': 1, 'style': 1, 'a': 1, 'hr': 1, 'br': 1, 'p': 3, 'h1': 1, 'article': 1}\n",
      "{'html': 1, 'body': 1, 'head': 1, 'title': 1, 'style': 1, 'a': 1, 'p': 3, 'h1': 1, 'article': 1}\n"
     ]
    }
   ],
   "source": [
    "def find_tags(filename):\n",
    "    \"\"\"Count the approximate number of HTML tags in a file.\"\"\"\n",
    "    tags_str = 'html,body,head,title,link,script,style,meta,header,nav,a,div,span,table,thead,tbody,tr,td,th,hr,br,p,h1,h2,h3,h4,h5,h6,b,i,ul,ol,li,section,footer,article'\n",
    "    tags = tags_str.split(',')\n",
    "    used_tags_start = {}\n",
    "    used_tags_end = {}\n",
    "        \n",
    "    try:\n",
    "        with open(filename) as f_obj:\n",
    "            contents = f_obj.read()\n",
    "    except FileNotFoundError:\n",
    "        msg = \"Sorry, the file \" + filename + \" does not exist.\"\n",
    "        print(msg)\n",
    "    else:\n",
    "        \n",
    "        for tag in tags:\n",
    "            \n",
    "            num1 = len(contents.split('<' + tag + '>')) - 1\n",
    "            num2 = len(contents.split('<' + tag + ' ')) - 1\n",
    "            if (num1 + num2 > 0):\n",
    "                used_tags_start[tag] = num1 + num2\n",
    "                \n",
    "            num = len(contents.split('</' + tag + '>')) - 1\n",
    "            if (num > 0):\n",
    "                used_tags_end[tag] = num\n",
    "                \n",
    "        print(used_tags_start)\n",
    "        print(used_tags_end)\n",
    "        \n",
    "filename = \"example_html_file.html\"\n",
    "find_tags(filename)"
   ]
  },
  {
   "cell_type": "code",
   "execution_count": null,
   "metadata": {},
   "outputs": [],
   "source": []
  }
 ],
 "metadata": {
  "kernelspec": {
   "display_name": "Python 3",
   "language": "python",
   "name": "python3"
  },
  "language_info": {
   "codemirror_mode": {
    "name": "ipython",
    "version": 3
   },
   "file_extension": ".py",
   "mimetype": "text/x-python",
   "name": "python",
   "nbconvert_exporter": "python",
   "pygments_lexer": "ipython3",
   "version": "3.7.3"
  }
 },
 "nbformat": 4,
 "nbformat_minor": 2
}
