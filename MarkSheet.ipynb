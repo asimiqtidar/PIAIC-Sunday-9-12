{
 "cells": [
  {
   "cell_type": "code",
   "execution_count": 11,
   "metadata": {},
   "outputs": [
    {
     "name": "stdout",
     "output_type": "stream",
     "text": [
      "Enter Marks In Chemistry: 94\n",
      "Enter Marks In Maths: 89\n",
      "Enter Marks In Physics: 86\n",
      "Enter Marks In English: 68\n",
      "Enter Marks In Urdu: 75\n"
     ]
    }
   ],
   "source": [
    "marksheet = {'chemistry': 0, 'maths': 0, 'physics': 0, 'english': 0, 'urdu': 0}\n",
    "total_marks = 500\n",
    "marks_obtained = 0\n",
    "\n",
    "marks_str = ''\n",
    "\n",
    "for k in marksheet.keys():\n",
    "    marksheet[k] = int(input(\"Enter Marks In \" + k.title() + \": \" ))\n",
    "    marks_str += k.title() + ' : \\t\\t' + str(marksheet[k]) + ' / 100 \\n'\n",
    "    marks_obtained += marksheet[k]\n",
    "\n",
    "per = marks_obtained * 100 / total_marks\n",
    "\n",
    "if (per >= 90):\n",
    "    grade = 'A+'\n",
    "elif (per >= 80):\n",
    "    grade = 'A'\n",
    "elif (per >= 70):\n",
    "    grade = 'B'\n",
    "elif (per >= 60):\n",
    "    grade = 'C'\n",
    "elif (per >= 50):\n",
    "    grade = 'D'\n",
    "else:\n",
    "    grade = 'Fail'\n",
    "    \n",
    "str1 = ''\n",
    "\n",
    "str1 += '========================= Marks Sheet =========================\\n'\n",
    "str1 += marks_str\n",
    "str1 += '===============================================================\\n'\n",
    "str1 += 'Total Marks Obtained: \\t' + str(marks_obtained) + ' out of ' + str(total_marks) + '\\n'\n",
    "str1 += 'Your Percentage: \\t' + str(per) + '%\\n'\n",
    "str1 += 'Your Grade: \\t' + grade + '\\n'\n",
    "str1 += '===============================================================\\n'\n",
    "\n",
    "with open(\"MarkSheet.txt\", \"w\") as f:\n",
    "    f.write(str1)"
   ]
  },
  {
   "cell_type": "code",
   "execution_count": 9,
   "metadata": {},
   "outputs": [
    {
     "data": {
      "text/plain": [
       "30"
      ]
     },
     "execution_count": 9,
     "metadata": {},
     "output_type": "execute_result"
    }
   ],
   "source": [
    "30\n"
   ]
  },
  {
   "cell_type": "code",
   "execution_count": null,
   "metadata": {},
   "outputs": [],
   "source": []
  }
 ],
 "metadata": {
  "kernelspec": {
   "display_name": "Python 3",
   "language": "python",
   "name": "python3"
  },
  "language_info": {
   "codemirror_mode": {
    "name": "ipython",
    "version": 3
   },
   "file_extension": ".py",
   "mimetype": "text/x-python",
   "name": "python",
   "nbconvert_exporter": "python",
   "pygments_lexer": "ipython3",
   "version": "3.7.3"
  }
 },
 "nbformat": 4,
 "nbformat_minor": 2
}
