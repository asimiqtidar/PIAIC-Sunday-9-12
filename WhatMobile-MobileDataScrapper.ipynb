{
 "cells": [
  {
   "cell_type": "code",
   "execution_count": 1,
   "metadata": {},
   "outputs": [
    {
     "name": "stdout",
     "output_type": "stream",
     "text": [
      "-----------------------------------------------------------\n"
     ]
    }
   ],
   "source": [
    "import csv\n",
    "import requests\n",
    "from bs4 import BeautifulSoup\n",
    "\n",
    "def GetMobilessListFromBrandPageWithDiv (html):\n",
    "    soup2 = BeautifulSoup(html, 'html.parser')    \n",
    "    marquees = soup2.find_all('marquee')\n",
    "    divs = []\n",
    "    for marquee in marquees:\n",
    "        divs_list = marquee.div.find_all('div')\n",
    "        for div in divs_list:\n",
    "            #divs.append(div)\n",
    "            link = div.a['href']\n",
    "            fonts = div.find_all('font')\n",
    "            brand = fonts[0].b.string\n",
    "            model = fonts[1].contents[0]\n",
    "            price = fonts[2].contents[0]\n",
    "            \n",
    "            #print(\"brand: \", brand)\n",
    "            #print(\"link: \", link)\n",
    "            #print(\"model: \", model)\n",
    "            #print(\"price: \", price)\n",
    "            \n",
    "            if price != 'Coming Soon':\n",
    "                divs.append({\"brand\": brand, \"model\": model, \"link\": link, \"price\": price})\n",
    "       \n",
    "    \n",
    "    return divs\n",
    "                   \n",
    "    \n",
    "    \n",
    "#html_doc = 'https://www.digitaledu.nl'\n",
    "html_doc = 'https://www.whatmobile.com.pk/Samsung_Mobiles_Prices'\n",
    "\n",
    "response = requests.get(html_doc)\n",
    "\n",
    "html = response.content\n",
    "\n",
    "toCSV = GetMobilessListFromBrandPageWithDiv (html)\n",
    "\n",
    "#print(toCSV)\n",
    "\n",
    "with open(\"mobile.csv\", \"w\", newline=\"\") as f:\n",
    "    fc = csv.DictWriter(f, fieldnames=toCSV[0].keys())\n",
    "    fc.writeheader()\n",
    "    fc.writerows(toCSV)\n",
    "\n",
    "print(\"-----------------------------------------------------------\")"
   ]
  },
  {
   "cell_type": "code",
   "execution_count": null,
   "metadata": {},
   "outputs": [],
   "source": []
  }
 ],
 "metadata": {
  "kernelspec": {
   "display_name": "Python 3",
   "language": "python",
   "name": "python3"
  },
  "language_info": {
   "codemirror_mode": {
    "name": "ipython",
    "version": 3
   },
   "file_extension": ".py",
   "mimetype": "text/x-python",
   "name": "python",
   "nbconvert_exporter": "python",
   "pygments_lexer": "ipython3",
   "version": "3.7.3"
  }
 },
 "nbformat": 4,
 "nbformat_minor": 2
}
